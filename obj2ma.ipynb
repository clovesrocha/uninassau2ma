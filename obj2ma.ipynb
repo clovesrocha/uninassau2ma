{
  "nbformat": 4,
  "nbformat_minor": 0,
  "metadata": {
    "colab": {
      "provenance": [],
      "authorship_tag": "ABX9TyMe/7IbF54xZpmIXFdqRqJe",
      "include_colab_link": true
    },
    "kernelspec": {
      "name": "python3",
      "display_name": "Python 3"
    },
    "language_info": {
      "name": "python"
    }
  },
  "cells": [
    {
      "cell_type": "markdown",
      "metadata": {
        "id": "view-in-github",
        "colab_type": "text"
      },
      "source": [
        "<a href=\"https://colab.research.google.com/github/clovesrocha/uninassau2ma/blob/main/obj2ma.ipynb\" target=\"_parent\"><img src=\"https://colab.research.google.com/assets/colab-badge.svg\" alt=\"Open In Colab\"/></a>"
      ]
    },
    {
      "cell_type": "code",
      "execution_count": 4,
      "metadata": {
        "colab": {
          "base_uri": "https://localhost:8080/"
        },
        "id": "IGZHjZ7WbsKL",
        "outputId": "6a0ac8dc-7919-444a-b0db-4f61d7510027"
      },
      "outputs": [
        {
          "output_type": "execute_result",
          "data": {
            "text/plain": [
              "10"
            ]
          },
          "metadata": {},
          "execution_count": 4
        }
      ],
      "source": [
        "# UNINASSAU\n",
        "# DOCENTE: CLOVES ROCHA\n",
        "# DISCIPLINA: PWC\n",
        "# NOÇÕES OO com Python\n",
        "\n",
        "class Carro:\n",
        "  def __init__(self):\n",
        "    self._nrodas = 4\n",
        "  def set_nrodas(self, n):\n",
        "    self._nrodas = n\n",
        "bmw = Carro()\n",
        "bmw._nrodas\n",
        "\n",
        "bmw.set_nrodas(10)\n",
        "bmw._nrodas"
      ]
    },
    {
      "cell_type": "code",
      "source": [
        "fila = [100, 101, 102, 103, 104]\n",
        "fila.append(105)\n",
        "print(fila)"
      ],
      "metadata": {
        "colab": {
          "base_uri": "https://localhost:8080/"
        },
        "id": "GE4eEzeHe6CX",
        "outputId": "f8e9963f-3263-45bd-a3ab-80ca4011d2bb"
      },
      "execution_count": 13,
      "outputs": [
        {
          "output_type": "stream",
          "name": "stdout",
          "text": [
            "[100, 101, 102, 103, 104, 105]\n"
          ]
        }
      ]
    }
  ]
}